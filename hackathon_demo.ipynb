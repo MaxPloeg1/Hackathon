{
 "cells": [
  {
   "cell_type": "markdown",
   "id": "60516a51",
   "metadata": {},
   "source": [
    "## Hackathon"
   ]
  },
  {
   "cell_type": "code",
   "execution_count": 1,
   "id": "595e05e6",
   "metadata": {},
   "outputs": [
    {
     "data": {
      "text/plain": [
       "<xarray.core.options.set_options at 0x22fb720c830>"
      ]
     },
     "execution_count": 1,
     "metadata": {},
     "output_type": "execute_result"
    }
   ],
   "source": [
    "import xarray as xr\n",
    "import numpy as np\n",
    "import pandas as pd\n",
    "import cartopy.crs as ccrs\n",
    "import cartopy.feature as cfeature\n",
    "import matplotlib.pyplot as plt\n",
    "\n",
    "xr.set_options(display_style=\"text\")"
   ]
  },
  {
   "cell_type": "markdown",
   "id": "86f798c2-beba-40dd-9b6b-53ff096eae12",
   "metadata": {},
   "source": [
    "## Data loader om data uit de grote set te halen.\n",
    "\n",
    "Gebruik `loader.get_subset()` voor specifieke ranges van tijd, longitude en latitude. \n",
    "\n",
    "Gebruik `subset.to_dataframe()` om een tabel van type xarray om te zetten naar een pandas dataframe. "
   ]
  },
  {
   "cell_type": "code",
   "execution_count": 2,
   "id": "76c476c8",
   "metadata": {},
   "outputs": [],
   "source": [
    "class DataLoader:\n",
    "    \"\"\"Simple dataloader for NetCDF temperature data.\"\"\"\n",
    "    \n",
    "    def __init__(self, file_path):\n",
    "        self.file_path = file_path\n",
    "        self.dataset = None\n",
    "    \n",
    "    def load_data(self):\n",
    "        \"\"\"Load and preprocess the dataset.\"\"\"\n",
    "        self.dataset = xr.open_dataset(self.file_path, engine=\"h5netcdf\")\n",
    "        \n",
    "        # Fix coordinates\n",
    "        if self.dataset[\"longitude\"].max() > 180:\n",
    "            self.dataset = self.dataset.assign_coords(\n",
    "                longitude=(self.dataset[\"longitude\"].values + 180) % 360 - 180\n",
    "            )\n",
    "        if self.dataset[\"latitude\"].max() > 90:\n",
    "            self.dataset = self.dataset.assign_coords(\n",
    "                latitude=self.dataset[\"latitude\"].values - 90\n",
    "            )\n",
    "        \n",
    "        # Sort coordinates\n",
    "        self.dataset = self.dataset.sortby([\"latitude\", \"longitude\"])\n",
    "        return self.dataset\n",
    "    \n",
    "    def get_subset(self, time_range=None, lat_range=None, lon_range=None):\n",
    "        \"\"\"Get a subset of the data.\"\"\"\n",
    "        if self.dataset is None:\n",
    "            raise ValueError(\"Load data first!\")\n",
    "        \n",
    "        subset = self.dataset\n",
    "        if time_range:\n",
    "            subset = subset.sel(valid_time=slice(time_range[0], time_range[1]))\n",
    "        if lat_range:\n",
    "            subset = subset.sel(latitude=slice(lat_range[0], lat_range[1]))\n",
    "        if lon_range:\n",
    "            subset = subset.sel(longitude=slice(lon_range[0], lon_range[1]))\n",
    "        \n",
    "        return subset.compute()\n",
    "    \n"
   ]
  },
  {
   "cell_type": "code",
   "execution_count": 3,
   "id": "ecdb74b9",
   "metadata": {},
   "outputs": [],
   "source": [
    "# Example usage\n",
    "loader = DataLoader(\"2023_2m_temperature.nc\")\n",
    "dataset = loader.load_data()"
   ]
  },
  {
   "cell_type": "code",
   "execution_count": 4,
   "id": "5823f3b4-db0c-4de4-8985-0248484f55c4",
   "metadata": {},
   "outputs": [
    {
     "name": "stdout",
     "output_type": "stream",
     "text": [
      "-25.0\n",
      "37.25\n",
      "34.0\n",
      "71.25\n"
     ]
    }
   ],
   "source": [
    "print(dataset['longitude'].min().item())\n",
    "print(dataset['longitude'].max().item())\n",
    "print(dataset['latitude'].min().item())\n",
    "print(dataset['latitude'].max().item())"
   ]
  },
  {
   "cell_type": "code",
   "execution_count": 5,
   "id": "92a58c36",
   "metadata": {},
   "outputs": [
    {
     "data": {
      "text/html": [
       "<pre>&lt;xarray.Dataset&gt; Size: 21kB\n",
       "Dimensions:     (valid_time: 744, latitude: 1, longitude: 1)\n",
       "Coordinates:\n",
       "  * valid_time  (valid_time) datetime64[ns] 6kB 2023-05-01 ... 2023-05-31T23:...\n",
       "  * latitude    (latitude) float64 8B 52.25\n",
       "  * longitude   (longitude) float64 8B 5.0\n",
       "    number      int64 8B 0\n",
       "    expver      (valid_time) &lt;U4 12kB &#x27;0001&#x27; &#x27;0001&#x27; &#x27;0001&#x27; ... &#x27;0001&#x27; &#x27;0001&#x27;\n",
       "Data variables:\n",
       "    t2m         (valid_time, latitude, longitude) float32 3kB 282.2 ... 284.2\n",
       "Attributes:\n",
       "    GRIB_centre:             ecmf\n",
       "    GRIB_centreDescription:  European Centre for Medium-Range Weather Forecasts\n",
       "    GRIB_subCentre:          0\n",
       "    Conventions:             CF-1.7\n",
       "    institution:             European Centre for Medium-Range Weather Forecasts\n",
       "    history:                 2025-09-19T08:59 GRIB to CDM+CF via cfgrib-0.9.1...</pre>"
      ],
      "text/plain": [
       "<xarray.Dataset> Size: 21kB\n",
       "Dimensions:     (valid_time: 744, latitude: 1, longitude: 1)\n",
       "Coordinates:\n",
       "  * valid_time  (valid_time) datetime64[ns] 6kB 2023-05-01 ... 2023-05-31T23:...\n",
       "  * latitude    (latitude) float64 8B 52.25\n",
       "  * longitude   (longitude) float64 8B 5.0\n",
       "    number      int64 8B 0\n",
       "    expver      (valid_time) <U4 12kB '0001' '0001' '0001' ... '0001' '0001'\n",
       "Data variables:\n",
       "    t2m         (valid_time, latitude, longitude) float32 3kB 282.2 ... 284.2\n",
       "Attributes:\n",
       "    GRIB_centre:             ecmf\n",
       "    GRIB_centreDescription:  European Centre for Medium-Range Weather Forecasts\n",
       "    GRIB_subCentre:          0\n",
       "    Conventions:             CF-1.7\n",
       "    institution:             European Centre for Medium-Range Weather Forecasts\n",
       "    history:                 2025-09-19T08:59 GRIB to CDM+CF via cfgrib-0.9.1..."
      ]
     },
     "execution_count": 5,
     "metadata": {},
     "output_type": "execute_result"
    }
   ],
   "source": [
    "# Get a subset (May 2023, Europe)\n",
    "subset = loader.get_subset(\n",
    "    time_range=(\"2023-05-01\", \"2023-05-31\"),\n",
    "    lat_range=(52.25, 52.25),\n",
    "    lon_range=(5.0, 5.0)\n",
    ")\n",
    "subset"
   ]
  },
  {
   "cell_type": "code",
   "execution_count": 6,
   "id": "d6390a7c",
   "metadata": {},
   "outputs": [
    {
     "data": {
      "text/plain": [
       "array([282.20166, 281.77856, 281.55127, 281.06763, 280.6704 , 281.2251 ,\n",
       "       282.7295 , 284.03662, 285.3191 , 286.8589 ], dtype=float32)"
      ]
     },
     "execution_count": 6,
     "metadata": {},
     "output_type": "execute_result"
    }
   ],
   "source": [
    "subset[\"t2m\"].data.flatten()[0:10]"
   ]
  },
  {
   "cell_type": "code",
   "execution_count": 7,
   "id": "d354e8ed-8818-496a-a007-a2919b2d5553",
   "metadata": {},
   "outputs": [
    {
     "data": {
      "text/html": [
       "<div>\n",
       "<style scoped>\n",
       "    .dataframe tbody tr th:only-of-type {\n",
       "        vertical-align: middle;\n",
       "    }\n",
       "\n",
       "    .dataframe tbody tr th {\n",
       "        vertical-align: top;\n",
       "    }\n",
       "\n",
       "    .dataframe thead th {\n",
       "        text-align: right;\n",
       "    }\n",
       "</style>\n",
       "<table border=\"1\" class=\"dataframe\">\n",
       "  <thead>\n",
       "    <tr style=\"text-align: right;\">\n",
       "      <th></th>\n",
       "      <th></th>\n",
       "      <th></th>\n",
       "      <th>t2m</th>\n",
       "      <th>number</th>\n",
       "      <th>expver</th>\n",
       "    </tr>\n",
       "    <tr>\n",
       "      <th>valid_time</th>\n",
       "      <th>latitude</th>\n",
       "      <th>longitude</th>\n",
       "      <th></th>\n",
       "      <th></th>\n",
       "      <th></th>\n",
       "    </tr>\n",
       "  </thead>\n",
       "  <tbody>\n",
       "    <tr>\n",
       "      <th>2023-05-01 00:00:00</th>\n",
       "      <th>52.25</th>\n",
       "      <th>5.0</th>\n",
       "      <td>282.201660</td>\n",
       "      <td>0</td>\n",
       "      <td>0001</td>\n",
       "    </tr>\n",
       "    <tr>\n",
       "      <th>2023-05-01 01:00:00</th>\n",
       "      <th>52.25</th>\n",
       "      <th>5.0</th>\n",
       "      <td>281.778564</td>\n",
       "      <td>0</td>\n",
       "      <td>0001</td>\n",
       "    </tr>\n",
       "    <tr>\n",
       "      <th>2023-05-01 02:00:00</th>\n",
       "      <th>52.25</th>\n",
       "      <th>5.0</th>\n",
       "      <td>281.551270</td>\n",
       "      <td>0</td>\n",
       "      <td>0001</td>\n",
       "    </tr>\n",
       "    <tr>\n",
       "      <th>2023-05-01 03:00:00</th>\n",
       "      <th>52.25</th>\n",
       "      <th>5.0</th>\n",
       "      <td>281.067627</td>\n",
       "      <td>0</td>\n",
       "      <td>0001</td>\n",
       "    </tr>\n",
       "    <tr>\n",
       "      <th>2023-05-01 04:00:00</th>\n",
       "      <th>52.25</th>\n",
       "      <th>5.0</th>\n",
       "      <td>280.670410</td>\n",
       "      <td>0</td>\n",
       "      <td>0001</td>\n",
       "    </tr>\n",
       "    <tr>\n",
       "      <th>...</th>\n",
       "      <th>...</th>\n",
       "      <th>...</th>\n",
       "      <td>...</td>\n",
       "      <td>...</td>\n",
       "      <td>...</td>\n",
       "    </tr>\n",
       "    <tr>\n",
       "      <th>2023-05-31 19:00:00</th>\n",
       "      <th>52.25</th>\n",
       "      <th>5.0</th>\n",
       "      <td>288.152588</td>\n",
       "      <td>0</td>\n",
       "      <td>0001</td>\n",
       "    </tr>\n",
       "    <tr>\n",
       "      <th>2023-05-31 20:00:00</th>\n",
       "      <th>52.25</th>\n",
       "      <th>5.0</th>\n",
       "      <td>286.337646</td>\n",
       "      <td>0</td>\n",
       "      <td>0001</td>\n",
       "    </tr>\n",
       "    <tr>\n",
       "      <th>2023-05-31 21:00:00</th>\n",
       "      <th>52.25</th>\n",
       "      <th>5.0</th>\n",
       "      <td>285.362793</td>\n",
       "      <td>0</td>\n",
       "      <td>0001</td>\n",
       "    </tr>\n",
       "    <tr>\n",
       "      <th>2023-05-31 22:00:00</th>\n",
       "      <th>52.25</th>\n",
       "      <th>5.0</th>\n",
       "      <td>284.525879</td>\n",
       "      <td>0</td>\n",
       "      <td>0001</td>\n",
       "    </tr>\n",
       "    <tr>\n",
       "      <th>2023-05-31 23:00:00</th>\n",
       "      <th>52.25</th>\n",
       "      <th>5.0</th>\n",
       "      <td>284.163330</td>\n",
       "      <td>0</td>\n",
       "      <td>0001</td>\n",
       "    </tr>\n",
       "  </tbody>\n",
       "</table>\n",
       "<p>744 rows × 3 columns</p>\n",
       "</div>"
      ],
      "text/plain": [
       "                                               t2m  number expver\n",
       "valid_time          latitude longitude                           \n",
       "2023-05-01 00:00:00 52.25    5.0        282.201660       0   0001\n",
       "2023-05-01 01:00:00 52.25    5.0        281.778564       0   0001\n",
       "2023-05-01 02:00:00 52.25    5.0        281.551270       0   0001\n",
       "2023-05-01 03:00:00 52.25    5.0        281.067627       0   0001\n",
       "2023-05-01 04:00:00 52.25    5.0        280.670410       0   0001\n",
       "...                                            ...     ...    ...\n",
       "2023-05-31 19:00:00 52.25    5.0        288.152588       0   0001\n",
       "2023-05-31 20:00:00 52.25    5.0        286.337646       0   0001\n",
       "2023-05-31 21:00:00 52.25    5.0        285.362793       0   0001\n",
       "2023-05-31 22:00:00 52.25    5.0        284.525879       0   0001\n",
       "2023-05-31 23:00:00 52.25    5.0        284.163330       0   0001\n",
       "\n",
       "[744 rows x 3 columns]"
      ]
     },
     "execution_count": 7,
     "metadata": {},
     "output_type": "execute_result"
    }
   ],
   "source": [
    "subset.to_dataframe()"
   ]
  },
  {
   "cell_type": "markdown",
   "id": "99d8c07e-3ca0-4951-9a69-1dcbb6751efb",
   "metadata": {},
   "source": [
    "## Methode om je forecast functie te evalueren op een random steekproef van de dataset. \n",
    "In dit voorbeeld wordt steeds 2 weken historische data gepakt en wordt 1 week vooruit voorspeld.\n",
    "\n",
    "`generate_eval_data()` geeft n random periodes van 3 weken op willekeurige locaties.\n",
    "\n",
    "`forecast(history, n_points)` neemt een historische reeks van temperaturen en voorspelt de volgende n_points.\n",
    "\n",
    "`forecast_1w()` evalueert de forecast functie op een random week (MAE score) en toont een grafiek van de historische reeks, de echte waardes en de voorspelde waarde. \n",
    "\n",
    "`evaluator(function, n_samples)` berekent de mean absolute error (MAE) van de voorspelling van functie `forecast()` voor een steekproef van grootte n_samples. "
   ]
  },
  {
   "cell_type": "code",
   "execution_count": 8,
   "id": "0b71c1d5-2270-46e7-a93d-0a2492e24769",
   "metadata": {},
   "outputs": [],
   "source": [
    "def generate_eval_data(n = 100):\n",
    "    rng = np.random.default_rng()\n",
    "    \n",
    "    # ---- Random geolocation ----\n",
    "    # Longitude uniform in [-180, 180)\n",
    "    lon = rng.uniform(-25, 37.25, n)\n",
    "    lon = np.round(lon * 4)/4\n",
    "    \n",
    "    # Latitude area-uniform: sample z = sin(lat) ~ U(-1,1)  => lat = arcsin(z)\n",
    "    lat = rng.uniform(34, 71.25, n)\n",
    "    lat = np.round(lat * 4)/4\n",
    "    \n",
    "    # ---- Random 3-week interval in 2023 ----\n",
    "    start0 = pd.Timestamp(\"2023-01-01\")\n",
    "    # Inclusive end = start + 20 days (21 calendar days total)\n",
    "    last_start = pd.Timestamp(\"2023-12-31\") - pd.Timedelta(days=20)\n",
    "    num_choices = (last_start - start0).days + 1\n",
    "    \n",
    "    offsets = rng.integers(0, num_choices, n)  # days after Jan 1\n",
    "    start_date = start0 + pd.to_timedelta(offsets, unit=\"D\")\n",
    "    end_date = start_date + pd.Timedelta(days=20)\n",
    "    \n",
    "    # ---- Assemble DataFrame ----\n",
    "    df = pd.DataFrame({\n",
    "        \"latitude_deg\": lat,\n",
    "        \"longitude_deg\": lon,\n",
    "        \"start_date\": start_date.strftime(\"%Y-%m-%d\"),\n",
    "        \"end_date\": end_date.strftime(\"%Y-%m-%d\")\n",
    "    })\n",
    "    return df"
   ]
  },
  {
   "cell_type": "code",
   "execution_count": 9,
   "id": "beea9d5c-70c1-44c5-8c0f-c6900d097738",
   "metadata": {},
   "outputs": [
    {
     "data": {
      "text/html": [
       "<div>\n",
       "<style scoped>\n",
       "    .dataframe tbody tr th:only-of-type {\n",
       "        vertical-align: middle;\n",
       "    }\n",
       "\n",
       "    .dataframe tbody tr th {\n",
       "        vertical-align: top;\n",
       "    }\n",
       "\n",
       "    .dataframe thead th {\n",
       "        text-align: right;\n",
       "    }\n",
       "</style>\n",
       "<table border=\"1\" class=\"dataframe\">\n",
       "  <thead>\n",
       "    <tr style=\"text-align: right;\">\n",
       "      <th></th>\n",
       "      <th>latitude_deg</th>\n",
       "      <th>longitude_deg</th>\n",
       "      <th>start_date</th>\n",
       "      <th>end_date</th>\n",
       "    </tr>\n",
       "  </thead>\n",
       "  <tbody>\n",
       "    <tr>\n",
       "      <th>0</th>\n",
       "      <td>40.00</td>\n",
       "      <td>25.00</td>\n",
       "      <td>2023-02-23</td>\n",
       "      <td>2023-03-15</td>\n",
       "    </tr>\n",
       "    <tr>\n",
       "      <th>1</th>\n",
       "      <td>57.50</td>\n",
       "      <td>21.75</td>\n",
       "      <td>2023-07-26</td>\n",
       "      <td>2023-08-15</td>\n",
       "    </tr>\n",
       "    <tr>\n",
       "      <th>2</th>\n",
       "      <td>46.75</td>\n",
       "      <td>-19.50</td>\n",
       "      <td>2023-01-09</td>\n",
       "      <td>2023-01-29</td>\n",
       "    </tr>\n",
       "    <tr>\n",
       "      <th>3</th>\n",
       "      <td>60.75</td>\n",
       "      <td>8.75</td>\n",
       "      <td>2023-04-26</td>\n",
       "      <td>2023-05-16</td>\n",
       "    </tr>\n",
       "    <tr>\n",
       "      <th>4</th>\n",
       "      <td>35.50</td>\n",
       "      <td>11.00</td>\n",
       "      <td>2023-06-07</td>\n",
       "      <td>2023-06-27</td>\n",
       "    </tr>\n",
       "  </tbody>\n",
       "</table>\n",
       "</div>"
      ],
      "text/plain": [
       "   latitude_deg  longitude_deg  start_date    end_date\n",
       "0         40.00          25.00  2023-02-23  2023-03-15\n",
       "1         57.50          21.75  2023-07-26  2023-08-15\n",
       "2         46.75         -19.50  2023-01-09  2023-01-29\n",
       "3         60.75           8.75  2023-04-26  2023-05-16\n",
       "4         35.50          11.00  2023-06-07  2023-06-27"
      ]
     },
     "execution_count": 9,
     "metadata": {},
     "output_type": "execute_result"
    }
   ],
   "source": [
    "generate_eval_data(5)"
   ]
  },
  {
   "cell_type": "code",
   "execution_count": 14,
   "id": "a5431358-3d10-4526-b69e-47e23627afde",
   "metadata": {},
   "outputs": [],
   "source": [
    "def forecast(history, lon = 40, lat = 25, start_date_hist = '2023-02-23', end_date_hist = '2023-03-08', n_points = 7*24):\n",
    "    # Take the last point of the history and repeat it n_points times\n",
    "    try:\n",
    "        return np.full(n_points, history[-1])\n",
    "    except: \n",
    "        return np.full(n_points, 0)\n",
    "\n",
    "def forecast_1w(row, function, operation = 'loop'):\n",
    "    sample = loader.get_subset(\n",
    "            time_range=(row['start_date'], row['end_date']),\n",
    "            lat_range=(row['latitude_deg'], row['latitude_deg']),\n",
    "            lon_range=(row['longitude_deg'], row['longitude_deg'])\n",
    "        ).compute()\n",
    "    history = sample.sel(valid_time=slice(row['start_date'],(pd.to_datetime(row['start_date']) + pd.Timedelta(weeks=2)).strftime(\"%Y-%m-%d\")))['t2m'].data.flatten()\n",
    "    y_true = sample.sel(valid_time=slice((pd.to_datetime(row['start_date']) + pd.Timedelta(weeks=2)).strftime(\"%Y-%m-%d\"),row['end_date']))['t2m'].data.flatten()\n",
    "    y_pred = function(history, \n",
    "                      row['longitude_deg'], \n",
    "                      row['latitude_deg'], \n",
    "                      row['start_date'],\n",
    "                      (pd.to_datetime(row['start_date']) + pd.Timedelta(weeks=2)).strftime(\"%Y-%m-%d\"), \n",
    "                      len(y_true))\n",
    "    if operation == 'manual':\n",
    "        fig, ax = plt.subplots()\n",
    "        ax.plot(range(len(history)), history, color = 'blue')\n",
    "        ax.plot(range(len(history), len(history) + len(y_true)), y_true, color = 'blue', linestyle = 'dashed')\n",
    "        ax.plot(range(len(history), len(history) + len(y_true)), y_pred, color = 'green', linestyle = (0, (1, 1)))\n",
    "    return np.mean(np.abs(y_true - y_pred))"
   ]
  },
  {
   "cell_type": "code",
   "execution_count": 15,
   "id": "f20a1278-8698-480a-81bc-1371a7d5ff75",
   "metadata": {},
   "outputs": [
    {
     "data": {
      "text/plain": [
       "array([18, 18, 18, 18, 18])"
      ]
     },
     "execution_count": 15,
     "metadata": {},
     "output_type": "execute_result"
    }
   ],
   "source": [
    "forecast(np.array([9,8,18]), n_points = 5)"
   ]
  },
  {
   "cell_type": "code",
   "execution_count": 16,
   "id": "8422f69d-f83d-4f9d-a71a-069624cd68e0",
   "metadata": {},
   "outputs": [
    {
     "data": {
      "text/plain": [
       "np.float32(2.307043)"
      ]
     },
     "execution_count": 16,
     "metadata": {},
     "output_type": "execute_result"
    },
    {
     "data": {
      "image/png": "[encoded data removed]",
      "text/plain": [
       "<Figure size 640x480 with 1 Axes>"
      ]
     },
     "metadata": {},
     "output_type": "display_data"
    }
   ],
   "source": [
    "forecast_1w(generate_eval_data(1).iloc[0], forecast, 'manual')"
   ]
  },
  {
   "cell_type": "code",
   "execution_count": 17,
   "id": "cf26b45b-7a94-4a16-886a-ab279fc5597b",
   "metadata": {},
   "outputs": [],
   "source": [
    "def evaluator(function, n_samples = 100):\n",
    "    errors = []\n",
    "    df = generate_eval_data(n_samples)\n",
    "    for index, row in df.iterrows():\n",
    "        error = forecast_1w(row, function, operation = 'loop')\n",
    "        errors.append(error)\n",
    "    return np.mean(errors)"
   ]
  },
  {
   "cell_type": "code",
   "execution_count": 18,
   "id": "bf109654-bb9d-44c3-b498-9079919998bc",
   "metadata": {},
   "outputs": [
    {
     "data": {
      "text/plain": [
       "np.float32(2.8878932)"
      ]
     },
     "execution_count": 18,
     "metadata": {},
     "output_type": "execute_result"
    }
   ],
   "source": [
    "evaluator(forecast, 10)"
   ]
  },
  {
   "cell_type": "code",
   "execution_count": null,
   "id": "0b56cd79-fe5c-42e0-a2a3-bd5d70f90f23",
   "metadata": {},
   "outputs": [],
   "source": []
  }
 ],
 "metadata": {
  "kernelspec": {
   "display_name": "Python 3 (ipykernel)",
   "language": "python",
   "name": "python3"
  },
  "language_info": {
   "codemirror_mode": {
    "name": "ipython",
    "version": 3
   },
   "file_extension": ".py",
   "mimetype": "text/x-python",
   "name": "python",
   "nbconvert_exporter": "python",
   "pygments_lexer": "ipython3",
   "version": "3.13.7"
  }
 },
 "nbformat": 4,
 "nbformat_minor": 5
}
